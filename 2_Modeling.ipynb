{
  "nbformat": 4,
  "nbformat_minor": 0,
  "metadata": {
    "colab": {
      "provenance": [],
      "gpuType": "A100"
    },
    "kernelspec": {
      "name": "python3",
      "display_name": "Python 3"
    },
    "language_info": {
      "name": "python"
    },
    "accelerator": "GPU"
  },
  "cells": [
    {
      "cell_type": "code",
      "source": [
        "import warnings\n",
        "warnings.filterwarnings(\"ignore\")"
      ],
      "metadata": {
        "id": "9ihujW_tdTe-"
      },
      "execution_count": 1,
      "outputs": []
    },
    {
      "cell_type": "code",
      "execution_count": 2,
      "metadata": {
        "id": "NNo2g-KRpecp"
      },
      "outputs": [],
      "source": [
        "import re\n",
        "import os\n",
        "import time\n",
        "import joblib\n",
        "import numpy as np\n",
        "import pandas as pd\n",
        "import seaborn as sns\n",
        "from tabulate import tabulate\n",
        "import matplotlib.pyplot as plt\n",
        "from sklearn.ensemble import AdaBoostRegressor, GradientBoostingRegressor, RandomForestRegressor, ExtraTreesRegressor\n",
        "from xgboost import XGBRegressor\n",
        "from sklearn.model_selection import train_test_split\n",
        "from sklearn.metrics import mean_absolute_error, mean_squared_error\n",
        "from sklearn.ensemble import RandomForestRegressor, ExtraTreesRegressor"
      ]
    },
    {
      "cell_type": "code",
      "source": [
        "# Dataset loading\n",
        "file_path = '/content/final_dataset_encoded.csv'\n",
        "df = pd.read_csv(file_path)\n",
        "\n",
        "print(\"Dataset's first rows:\")\n",
        "print(df.head())"
      ],
      "metadata": {
        "colab": {
          "base_uri": "https://localhost:8080/"
        },
        "id": "fBSrHfqdpjaV",
        "outputId": "ddfb3a19-1925-499a-81f7-206d387cac1a"
      },
      "execution_count": 3,
      "outputs": [
        {
          "output_type": "stream",
          "name": "stdout",
          "text": [
            "Dataset's first rows:\n",
            "   FL_DATE  AIRLINE  AIRLINE_DOT  AIRLINE_CODE  DOT_CODE  FL_NUMBER  ORIGIN  \\\n",
            "0        8       17           17            14     19977       1562     131   \n",
            "1     1418        3            3             4     19790       1149     247   \n",
            "2     1298       17           17            14     19977        459      99   \n",
            "3     1525        3            3             4     19790       2295     247   \n",
            "4      418       16           16            10     20416        407     223   \n",
            "\n",
            "   ORIGIN_CITY  DEST  DEST_CITY  CRS_DEP_TIME  DEP_DELAY  WHEELS_OFF  \\\n",
            "0          118   123        240          1155       -4.0      1210.0   \n",
            "1          220   323        318          2120       -6.0      2123.0   \n",
            "2           89   247        220           954        6.0      1020.0   \n",
            "3          220   325        303          1609       -1.0      1635.0   \n",
            "4          254   100         83          1840       -2.0      1853.0   \n",
            "\n",
            "   WHEELS_ON  CRS_ARR_TIME  ARR_TIME  CRS_ELAPSED_TIME  DISTANCE  \n",
            "0     1443.0          1501      1447             186.0    1065.0  \n",
            "1     2232.0          2315      2310             235.0    1399.0  \n",
            "2     1247.0          1252      1252             118.0     680.0  \n",
            "3     1844.0          1829      1853             260.0    1589.0  \n",
            "4     2026.0          2041      2040             181.0     985.0  \n"
          ]
        }
      ]
    },
    {
      "cell_type": "markdown",
      "source": [
        "# MODEL BUILD\n",
        "**Ada Boost Regressor** (Adaptive Boosting Regressor) is an iterative boosting alghoritm that obtains different models by reweighting the training data at every iteration. Indeed, for each iteration it saves and updates the weight of instances and weight of models. It increases the weight of incorrectly predicted samples, while decreases the weight of correctly predicted ones, depending on the accuracy of each model at each iteration. Better models are considered as more reliable and therefore instances’ weight is greater increased or decreased, and viceversa. Then, at greater values of iteration the error (squared loss) of each model decreases. Finally, it uses as default a shinkage value equal to 1, leading to faster but less precise training, but this lack of precision is mitigated with a larger number of trees (400).\n",
        "\n",
        "**Gradient Boosting Regressor** is a variant of the previous one and it is based on the same rationale. Nevertheless, instead of assigning greater weights to misclassified instances, it predicts the residual error of the previous iterates, and tries to minimize it according to a loss function (squared loss). Finally, it uses as default a shinkage value equal to 0.1, leading to slower but more precise training, but this slowness is mitigated with a lower number of trees (250).\n",
        "\n",
        "**XGBoost** (Extreme Gradient Boosting) is another iterative boosting algorithm that builds decision trees sequentially, where each tree corrects the errors of the previous ones. It optimizes an objective function that includes both a loss function (mean squared error) and a regularization term (L1 and L2) to prevent overfitting. It tries to predict residuals as the previous one, but differently from it, it applies a sort of residual discretization, using approximated quantiles, leading to faster but less precise training. Therefore, in order to mitigate this lack of precision the number of trees is increased (300), but keeping it lower than the one used for AdaBoost since it uses a greater default a shinkage value equal to 0.3.\n",
        "\n",
        "**Random Forest Regressor** selects a random subset of the training data using bootstrap sampling (with replacement); each decision tree is trained on a different boostrap sample; at each split in a tree, a random subset of features is selected (equivalent to the sqrt of features), and the best feature is chosen based on a splitting criterion (squared error) and finally, predictions from all trees are averaged in regression tasks to obtain the final output.\n",
        "\n",
        "**Extra Trees Regressor** (Extremely Randomized Trees) unlike Random Forest, no bootstrapping is performed; instead, the entire dataset is used for training each tree; at each node, a random subset of features is selected (also here equivalent to the sqrt of features), but instead of choosing the best split based on a threshold applied on the chosen criterion (also here squared error), the threshold is chosen randomly; and finally, the final prediction is obtained by averaging the outputs of all trees.\n"
      ],
      "metadata": {
        "id": "c6rjqjFjt8hw"
      }
    },
    {
      "cell_type": "code",
      "source": [
        "# Feature target separation\n",
        "X = df.drop(columns=[\"DEP_DELAY\"])\n",
        "y = df[\"DEP_DELAY\"]"
      ],
      "metadata": {
        "id": "rQPp9bjdt8Ma"
      },
      "execution_count": 4,
      "outputs": []
    },
    {
      "cell_type": "code",
      "source": [
        "# Train-test split (80%-20%)\n",
        "X_train, X_test, y_train, y_test = train_test_split(X, y, test_size=0.2, random_state=42)"
      ],
      "metadata": {
        "id": "eKQ9JhI-uDOw"
      },
      "execution_count": 5,
      "outputs": []
    },
    {
      "cell_type": "code",
      "source": [
        "# Models' saving\n",
        "save_path = \"/content/saved_models\"\n",
        "os.makedirs(save_path, exist_ok=True)"
      ],
      "metadata": {
        "id": "USol5Q-aQA6z"
      },
      "execution_count": 6,
      "outputs": []
    },
    {
      "cell_type": "code",
      "source": [
        "# Boosting Models' definition\n",
        "boostingModels = {\n",
        "    \"AdaBoost\": AdaBoostRegressor(n_estimators=400, loss='square', random_state=42),  # learning_rate [default=1.0]; max_depth [default=3]\n",
        "    \"GradientBoosting\": GradientBoostingRegressor(n_estimators=250, max_depth=15, random_state=42),  # learning_rate [default=0.1]; loss [default='squared_error']\n",
        "    \"XGBoost\": XGBRegressor(n_estimators=300, max_depth=15, n_jobs=-1, random_state=42), # learning_rate [default=0.3]; objective [default=squarederror]; reg_lambda(L2) [default=1]; reg_alpha(L1) [default=0]\n",
        "}"
      ],
      "metadata": {
        "id": "DWtHfTBJuUWw"
      },
      "execution_count": 10,
      "outputs": []
    },
    {
      "cell_type": "code",
      "source": [
        "trained_boosting_models = {}\n",
        "\n",
        "# Training Boosting models\n",
        "for name, model in boostingModels.items():\n",
        "    print(f\"\\nTraining model: {name}\")\n",
        "\n",
        "    start_time = time.time()\n",
        "    model.fit(X_train, y_train)\n",
        "    train_time = time.time() - start_time\n",
        "    trained_boosting_models[name] = (model, train_time)\n",
        "\n",
        "    filename = f\"{save_path}/{name}.pkl\"\n",
        "    joblib.dump(model, filename)\n",
        "    print(f\"Model {name} saved in {filename}\")"
      ],
      "metadata": {
        "colab": {
          "base_uri": "https://localhost:8080/"
        },
        "id": "xHOoyt-bugBJ",
        "outputId": "9a1b2c9f-8ad1-49c5-dcd4-c4b6f8663bf1"
      },
      "execution_count": 11,
      "outputs": [
        {
          "output_type": "stream",
          "name": "stdout",
          "text": [
            "\n",
            "Training model: AdaBoost\n",
            "Model AdaBoost saved in /content/saved_models/AdaBoost.pkl\n",
            "\n",
            "Training model: GradientBoosting\n",
            "Model GradientBoosting saved in /content/saved_models/GradientBoosting.pkl\n",
            "\n",
            "Training model: XGBoost\n",
            "Model XGBoost saved in /content/saved_models/XGBoost.pkl\n"
          ]
        }
      ]
    },
    {
      "cell_type": "code",
      "source": [
        "# Bagging Models' definition\n",
        "baggingModels = {\n",
        "    \"RandomForest\": RandomForestRegressor(n_estimators=100, max_depth=20, max_features=\"log2\", n_jobs=-1, random_state=42), # criterion [default='squared_error']; bootstrap [default=True];\n",
        "    \"ExtraTrees\": ExtraTreesRegressor(n_estimators=200, max_depth=20, max_features=\"log2\", n_jobs=-1, random_state=42) # criterion [default='squared_error']; bootstrap [default=False];\n",
        "}"
      ],
      "metadata": {
        "id": "8X3xj_QFTXAf"
      },
      "execution_count": 7,
      "outputs": []
    },
    {
      "cell_type": "code",
      "source": [
        "trained_bagging_models = {}\n",
        "\n",
        "# Training Bagging models\n",
        "for name, model in baggingModels.items():\n",
        "    print(f\"\\nTraining model: {name}\")\n",
        "\n",
        "    start_time = time.time()\n",
        "    model.fit(X_train, y_train)\n",
        "    train_time = time.time() - start_time\n",
        "    trained_bagging_models[name] = (model, train_time)\n",
        "\n",
        "    filename = f\"{save_path}/{name}.pkl\"\n",
        "    joblib.dump(model, filename)\n",
        "    print(f\"Model {name} saved in {filename}\")"
      ],
      "metadata": {
        "colab": {
          "base_uri": "https://localhost:8080/"
        },
        "id": "qjz6Y5fkTeqN",
        "outputId": "782e9f9a-037d-4def-ffd4-c0fd3788045c"
      },
      "execution_count": 8,
      "outputs": [
        {
          "output_type": "stream",
          "name": "stdout",
          "text": [
            "\n",
            "Training model: RandomForest\n",
            "Model RandomForest saved in /content/saved_models/RandomForest.pkl\n",
            "\n",
            "Training model: ExtraTrees\n",
            "Model ExtraTrees saved in /content/saved_models/ExtraTrees.pkl\n"
          ]
        }
      ]
    },
    {
      "cell_type": "markdown",
      "source": [
        "# MODEL ASSESSMENT\n",
        "This final step follows the model-building process and is aimed at evaluating the trained models to determine their effectiveness in making predictions. This involves using the performance metrics to assess the models’ strengths and weaknesses, ensuring they meet the desired criteria for accuracy and reliability, concluding with an additional analysis related to the comparison of the employed models.\n",
        "\n",
        "Since this is a regression task, the evaluation metrics will be:\n",
        "- Mean Absolute Error (MAE)\n",
        "- Mean Squared Error (MSE)\n",
        "- Root Mean Squared Error (RMSE)\n"
      ],
      "metadata": {
        "id": "VOURSWBfxWwW"
      }
    },
    {
      "cell_type": "code",
      "source": [
        "# Boosting Predictions\n",
        "boostingPredictions = {}\n",
        "\n",
        "for name, (model, _) in trained_boosting_models.items():\n",
        "    print(f\"\\nPrediction with model: {name}\")\n",
        "\n",
        "    y_pred = model.predict(X_test)\n",
        "    boostingPredictions[name] = y_pred"
      ],
      "metadata": {
        "colab": {
          "base_uri": "https://localhost:8080/"
        },
        "id": "s57DCKTXvEol",
        "outputId": "ccdf04ca-69c8-4d3a-a5f4-66e263e7bef5"
      },
      "execution_count": 12,
      "outputs": [
        {
          "output_type": "stream",
          "name": "stdout",
          "text": [
            "\n",
            "Prediction with model: AdaBoost\n",
            "\n",
            "Prediction with model: GradientBoosting\n",
            "\n",
            "Prediction with model: XGBoost\n"
          ]
        }
      ]
    },
    {
      "cell_type": "code",
      "source": [
        "# Bagging Predictions\n",
        "baggingPredictions = {}\n",
        "uncertainties = {}\n",
        "\n",
        "for name, (model, _) in trained_bagging_models.items():\n",
        "    print(f\"\\nPrediction with model: {name}\")\n",
        "\n",
        "    y_pred = model.predict(X_test)\n",
        "    baggingPredictions[name] = y_pred\n",
        "\n",
        "    # Computation of predictions' variance\n",
        "    tree_preds = np.array([tree.predict(X_test) for tree in model.estimators_]).T\n",
        "\n",
        "    var = np.var(tree_preds, axis=1)\n",
        "    uncertainties[name] = var\n",
        "\n",
        "    # Variance on test set visualization\n",
        "    print(f\"Variance of predictions for {name}:\")\n",
        "    print(var)"
      ],
      "metadata": {
        "colab": {
          "base_uri": "https://localhost:8080/"
        },
        "id": "kUqZc3bZT7Xk",
        "outputId": "b7c421b9-1d43-4820-afff-7cd83fe79262"
      },
      "execution_count": 13,
      "outputs": [
        {
          "output_type": "stream",
          "name": "stdout",
          "text": [
            "\n",
            "Prediction with model: RandomForest\n",
            "Variance of predictions for RandomForest:\n",
            "[ 38.98233985  11.30040366   9.13381164 ...  20.81255023 351.54438906\n",
            " 401.29023151]\n",
            "\n",
            "Prediction with model: ExtraTrees\n",
            "Variance of predictions for ExtraTrees:\n",
            "[ 84.29699297  22.39726191  56.74651056 ...  37.52610502 608.9313858\n",
            " 934.91440808]\n"
          ]
        }
      ]
    },
    {
      "cell_type": "code",
      "source": [
        "# Unified Bagging and Boosting predictions\n",
        "all_predictions = {**boostingPredictions, **baggingPredictions}\n",
        "\n",
        "# Metrics evaluation\n",
        "results = {}\n",
        "\n",
        "for name, y_pred in all_predictions.items():\n",
        "    mae = mean_absolute_error(y_test, y_pred)\n",
        "    mse = mean_squared_error(y_test, y_pred)\n",
        "    rmse = np.sqrt(mse)\n",
        "\n",
        "    # Training Time retrieval\n",
        "    if name in trained_boosting_models:\n",
        "        train_time = trained_boosting_models[name][1]\n",
        "    else:\n",
        "        train_time = trained_bagging_models[name][1]\n",
        "\n",
        "    results[name] = {\"MAE\": mae, \"MSE\": mse, \"RMSE\": rmse, \"Train Time (s)\": train_time}\n",
        "\n",
        "\n",
        "# Results visualization\n",
        "results_df = pd.DataFrame(results).T\n",
        "\n",
        "print(\"\\nResults gained:\")\n",
        "print(results_df)"
      ],
      "metadata": {
        "id": "y5nyHHDHWbhd",
        "colab": {
          "base_uri": "https://localhost:8080/"
        },
        "outputId": "8b7286d6-9d66-4c25-b978-c9e2c8f4fa32"
      },
      "execution_count": 14,
      "outputs": [
        {
          "output_type": "stream",
          "name": "stdout",
          "text": [
            "\n",
            "Results gained:\n",
            "                         MAE            MSE        RMSE  Train Time (s)\n",
            "AdaBoost          549.623255  409079.583736  639.593296     1893.201904\n",
            "GradientBoosting    4.546177     217.232071   14.738795     9910.990501\n",
            "XGBoost             4.927091     229.091307   15.135763       72.093331\n",
            "RandomForest        6.698937     266.261248   16.317514      117.894450\n",
            "ExtraTrees          9.689433     419.839805   20.489993      109.436944\n"
          ]
        }
      ]
    },
    {
      "cell_type": "code",
      "source": [
        "# Results visualization\n",
        "table = []\n",
        "\n",
        "for name, metrics in results.items():\n",
        "    table.append([name, metrics[\"MAE\"], metrics[\"MSE\"], metrics[\"RMSE\"], metrics[\"Train Time (s)\"]])\n",
        "\n",
        "headers = [\"Model\", \"MAE\", \"MSE\", \"RMSE\", \"Train Time (s)\"]\n",
        "print(\"\\nPredictions' results:\\n\")\n",
        "print(tabulate(table, headers=headers, tablefmt=\"pretty\"))"
      ],
      "metadata": {
        "colab": {
          "base_uri": "https://localhost:8080/"
        },
        "id": "p5XDiNLKxj82",
        "outputId": "22250768-4f2a-4316-978f-da1bfcabba66"
      },
      "execution_count": 15,
      "outputs": [
        {
          "output_type": "stream",
          "name": "stdout",
          "text": [
            "\n",
            "Predictions' results:\n",
            "\n",
            "+------------------+-------------------+--------------------+--------------------+--------------------+\n",
            "|      Model       |        MAE        |        MSE         |        RMSE        |   Train Time (s)   |\n",
            "+------------------+-------------------+--------------------+--------------------+--------------------+\n",
            "|     AdaBoost     | 549.6232545372086 | 409079.5837355385  | 639.5932955680028  | 1893.2019038200378 |\n",
            "| GradientBoosting | 4.546177203470105 | 217.23207064869362 | 14.738794748848822 | 9910.990500688553  |\n",
            "|     XGBoost      | 4.927090551679995 | 229.09130686650667 | 15.135762513547398 | 72.09333062171936  |\n",
            "|   RandomForest   | 6.698937368413514 | 266.26124802720784 | 16.31751353690898  | 117.89444994926453 |\n",
            "|    ExtraTrees    | 9.689432868425412 | 419.83980480474986 | 20.48999279660073  | 109.43694400787354 |\n",
            "+------------------+-------------------+--------------------+--------------------+--------------------+\n"
          ]
        }
      ]
    },
    {
      "cell_type": "code",
      "source": [
        "# Values\n",
        "models = [\"AdaBoost\", \"GradientBoosting\", \"XGBoost\", \"RandomForest\", \"ExtraTrees\"]\n",
        "mae = [549.6232, 4.5461, 4.927, 6.6989, 9.6894]\n",
        "mse = [409079.5837, 217.232, 229.0913, 266.2612, 419.8398]\n",
        "rmse = [639.5932, 14.7387, 15.1357, 16.3175, 20.4899]\n",
        "train_time = [1893.2, 9910.99, 72.09, 117.89, 109.43]\n",
        "\n",
        "# Visualization\n",
        "spacing_factor = 1\n",
        "x = np.arange(len(models)) * spacing_factor\n",
        "width = 0.25\n",
        "\n",
        "colors = [\"royalblue\", \"seagreen\", \"darkorange\"]\n",
        "fig, axes = plt.subplots(1, 2, figsize=(16, 5))\n",
        "\n",
        "# Metrics\n",
        "axes[0].bar(x - width, mae, width=width, color=colors[0], label=\"MAE\")\n",
        "axes[0].bar(x, rmse, width=width, color=colors[1], label=\"RMSE\")\n",
        "axes[0].bar(x + width, mse, width=width, color=colors[2], label=\"MSE\")\n",
        "\n",
        "axes[0].set_xticks(x)\n",
        "axes[0].set_xticklabels(models)\n",
        "axes[0].set_ylabel(\"Error Value\")\n",
        "axes[0].set_title(\"Comparison of MAE, RMSE, and MSE\")\n",
        "axes[0].legend()\n",
        "\n",
        "# Training time\n",
        "axes[1].bar(x, train_time, width=0.5, color=\"purple\")\n",
        "axes[1].set_xticks(x)\n",
        "axes[1].set_xticklabels(models)\n",
        "axes[1].set_ylabel(\"Training Time (s)\")\n",
        "axes[1].set_title(\"Training Time Comparison\")\n",
        "\n",
        "plt.tight_layout()\n",
        "plt.show()\n"
      ],
      "metadata": {
        "colab": {
          "base_uri": "https://localhost:8080/",
          "height": 360
        },
        "id": "yc9QxdmivIV8",
        "outputId": "7776f07d-f6a0-4361-d46b-4702c6c03728"
      },
      "execution_count": 17,
      "outputs": [
        {
          "output_type": "display_data",
          "data": {
            "text/plain": [
              "<Figure size 1600x500 with 2 Axes>"
            ],
            "image/png": "[encoded data removed]"
          },
          "metadata": {}
        }
      ]
    },
    {
      "cell_type": "markdown",
      "source": [
        "### Identified Observations\n",
        "The Mean Absolute Error (MAE) and the Mean Squared Error (MSE/RMSE) provide insight into the precision of the models.\n",
        "\n",
        "- Gradient Boosting achieved the best MAE (4.55) and RMSE (14.74), making it the most accurate model for this task.\n",
        "- XGBoost follows closely with an MAE of 4.93 and RMSE of 15.14, indicating strong predictive performance.\n",
        "- Random Forest exhibited a slightly higher MAE (6.70) and RMSE (16.32), suggesting it is less precise than the boosting-based models.\n",
        "- Extra Trees performed worse, with an MAE of 9.69 and RMSE of 20.49, indicating lower predictive accuracy.\n",
        "- AdaBoost had the poorest performance, with a significantly higher MAE (549.62) and RMSE (639.59), making it unsuitable for this task.\n",
        "\n",
        "Training Time Analysis\n",
        "- Gradient Boosting required the longest training time (9910s), which is expected due to its iterative nature.\n",
        "- XGBoost trained significantly faster (72s) while maintaining strong accuracy, making it a balanced choice.\n",
        "- Random Forest and Extra Trees required 117s and 109s, respectively, reflecting the computational cost of Bagging techniques.\n",
        "- AdaBoost had a training time of 1893s but performed poorly, making it an inefficient choice.\n",
        "\n",
        "General Considerations\n",
        "- Gradient Boosting is the most effective model in terms of accuracy but comes at a very high computational cost.\n",
        "- XGBoost offers a strong balance between accuracy and training efficiency, making it a competitive option.\n",
        "- Random Forest does not provide a substantial advantage over boosting techniques and it is computationally expensive.\n",
        "- Extra Trees demonstrates the weakest trade-off between accuracy and efficiency.\n",
        "- AdaBoost is not suitable for this task due to its significantly higher prediction error.\n",
        "\n",
        "Given these observations, **XGBoost** appears to be the most promising model, offering an optimal balance between predictive accuracy and computational efficiency. However, if computational resources are not a constraint, Gradient Boosting provides the best accuracy."
      ],
      "metadata": {
        "id": "XqTKFEgws0x7"
      }
    }
  ]
}